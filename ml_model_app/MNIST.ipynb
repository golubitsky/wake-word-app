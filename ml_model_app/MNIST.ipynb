{
  "nbformat": 4,
  "nbformat_minor": 0,
  "metadata": {
    "colab": {
      "name": "MNIST.ipynb",
      "provenance": []
    },
    "kernelspec": {
      "display_name": "Python 3",
      "name": "python3"
    },
    "language_info": {
      "name": "python"
    },
    "accelerator": "GPU"
  },
  "cells": [
    {
      "cell_type": "markdown",
      "metadata": {
        "id": "dJdrpp8syelp"
      },
      "source": [
        "Our Model:  TensorFlow Simple MNIST ConvNet\n",
        "\n"
      ]
    },
    {
      "cell_type": "code",
      "metadata": {
        "id": "ofLBIvrdynTf"
      },
      "source": [
        "import numpy as np\n",
        "import tensorflow as tf\n",
        "from tensorflow import keras\n",
        "from tensorflow.keras import layers"
      ],
      "execution_count": 1,
      "outputs": []
    },
    {
      "cell_type": "code",
      "metadata": {
        "id": "nROdqaIW38Vb"
      },
      "source": [
        ""
      ],
      "execution_count": null,
      "outputs": []
    },
    {
      "cell_type": "code",
      "metadata": {
        "colab": {
          "base_uri": "https://localhost:8080/"
        },
        "id": "BJj8mgAcysg8",
        "outputId": "ebb98770-ebe2-4ed5-ae95-5f3a608998a5"
      },
      "source": [
        "num_classes = 10\n",
        "input_shape = (28, 28, 1)\n",
        "\n",
        "# the data, split between train and test sets\n",
        "(x_train, y_train), (x_test, y_test) = keras.datasets.mnist.load_data()\n",
        "\n",
        "# Scale images to the [0, 1] range\n",
        "x_train = x_train.astype(\"float32\") / 255\n",
        "x_test = x_test.astype(\"float32\") / 255\n",
        "# Make sure images have shape (28, 28, 1)\n",
        "x_train = np.expand_dims(x_train, -1)\n",
        "x_test = np.expand_dims(x_test, -1)\n",
        "print(\"x_train shape:\", x_train.shape)\n",
        "print(x_train.shape[0], \"train samples\")\n",
        "print(x_test.shape[0], \"test samples\")\n",
        "\n",
        "\n",
        "# convert class vectors to binary class matrices\n",
        "y_train = keras.utils.to_categorical(y_train, num_classes)\n",
        "y_test = keras.utils.to_categorical(y_test, num_classes)"
      ],
      "execution_count": 2,
      "outputs": [
        {
          "output_type": "stream",
          "text": [
            "Downloading data from https://storage.googleapis.com/tensorflow/tf-keras-datasets/mnist.npz\n",
            "11493376/11490434 [==============================] - 0s 0us/step\n",
            "x_train shape: (60000, 28, 28, 1)\n",
            "60000 train samples\n",
            "10000 test samples\n"
          ],
          "name": "stdout"
        }
      ]
    },
    {
      "cell_type": "code",
      "metadata": {
        "colab": {
          "base_uri": "https://localhost:8080/"
        },
        "id": "jOLFux7Cy4Xx",
        "outputId": "29823bea-c5ff-46ef-c4de-8243801ee079"
      },
      "source": [
        "model = keras.Sequential(\n",
        "    [\n",
        "        keras.Input(shape=input_shape),\n",
        "        layers.Conv2D(32, kernel_size=(3, 3), activation=\"relu\"),\n",
        "        layers.MaxPooling2D(pool_size=(2, 2)),\n",
        "        layers.Conv2D(64, kernel_size=(3, 3), activation=\"relu\"),\n",
        "        layers.MaxPooling2D(pool_size=(2, 2)),\n",
        "        layers.Flatten(),\n",
        "        layers.Dropout(0.5),\n",
        "        layers.Dense(num_classes, activation=\"softmax\"),\n",
        "    ]\n",
        ")\n",
        "\n",
        "model.summary()"
      ],
      "execution_count": 3,
      "outputs": [
        {
          "output_type": "stream",
          "text": [
            "WARNING:tensorflow:Please add `keras.layers.InputLayer` instead of `keras.Input` to Sequential model. `keras.Input` is intended to be used by Functional model.\n",
            "Model: \"sequential\"\n",
            "_________________________________________________________________\n",
            "Layer (type)                 Output Shape              Param #   \n",
            "=================================================================\n",
            "conv2d (Conv2D)              (None, 26, 26, 32)        320       \n",
            "_________________________________________________________________\n",
            "max_pooling2d (MaxPooling2D) (None, 13, 13, 32)        0         \n",
            "_________________________________________________________________\n",
            "conv2d_1 (Conv2D)            (None, 11, 11, 64)        18496     \n",
            "_________________________________________________________________\n",
            "max_pooling2d_1 (MaxPooling2 (None, 5, 5, 64)          0         \n",
            "_________________________________________________________________\n",
            "flatten (Flatten)            (None, 1600)              0         \n",
            "_________________________________________________________________\n",
            "dropout (Dropout)            (None, 1600)              0         \n",
            "_________________________________________________________________\n",
            "dense (Dense)                (None, 10)                16010     \n",
            "=================================================================\n",
            "Total params: 34,826\n",
            "Trainable params: 34,826\n",
            "Non-trainable params: 0\n",
            "_________________________________________________________________\n"
          ],
          "name": "stdout"
        }
      ]
    },
    {
      "cell_type": "code",
      "metadata": {
        "colab": {
          "base_uri": "https://localhost:8080/"
        },
        "id": "84vAc9AXy69U",
        "outputId": "c820dd81-6e3a-45b4-afda-bca34d634287"
      },
      "source": [
        "batch_size = 32\n",
        "epochs = 32\n",
        "\n",
        "model.compile(loss=\"categorical_crossentropy\", optimizer=\"adam\", metrics=[\"accuracy\"])\n",
        "\n",
        "model.fit(x_train, y_train, batch_size=batch_size, epochs=epochs, validation_split=0.1)"
      ],
      "execution_count": 4,
      "outputs": [
        {
          "output_type": "stream",
          "text": [
            "Epoch 1/32\n",
            "1688/1688 [==============================] - 37s 3ms/step - loss: 0.2309 - accuracy: 0.9292 - val_loss: 0.0637 - val_accuracy: 0.9823\n",
            "Epoch 2/32\n",
            "1688/1688 [==============================] - 5s 3ms/step - loss: 0.0883 - accuracy: 0.9731 - val_loss: 0.0447 - val_accuracy: 0.9860\n",
            "Epoch 3/32\n",
            "1688/1688 [==============================] - 5s 3ms/step - loss: 0.0678 - accuracy: 0.9790 - val_loss: 0.0368 - val_accuracy: 0.9902\n",
            "Epoch 4/32\n",
            "1688/1688 [==============================] - 5s 3ms/step - loss: 0.0579 - accuracy: 0.9819 - val_loss: 0.0359 - val_accuracy: 0.9895\n",
            "Epoch 5/32\n",
            "1688/1688 [==============================] - 5s 3ms/step - loss: 0.0511 - accuracy: 0.9837 - val_loss: 0.0306 - val_accuracy: 0.9912\n",
            "Epoch 6/32\n",
            "1688/1688 [==============================] - 5s 3ms/step - loss: 0.0442 - accuracy: 0.9860 - val_loss: 0.0299 - val_accuracy: 0.9922\n",
            "Epoch 7/32\n",
            "1688/1688 [==============================] - 5s 3ms/step - loss: 0.0417 - accuracy: 0.9869 - val_loss: 0.0325 - val_accuracy: 0.9923\n",
            "Epoch 8/32\n",
            "1688/1688 [==============================] - 5s 3ms/step - loss: 0.0379 - accuracy: 0.9879 - val_loss: 0.0284 - val_accuracy: 0.9925\n",
            "Epoch 9/32\n",
            "1688/1688 [==============================] - 5s 3ms/step - loss: 0.0356 - accuracy: 0.9882 - val_loss: 0.0303 - val_accuracy: 0.9923\n",
            "Epoch 10/32\n",
            "1688/1688 [==============================] - 5s 3ms/step - loss: 0.0344 - accuracy: 0.9887 - val_loss: 0.0271 - val_accuracy: 0.9920\n",
            "Epoch 11/32\n",
            "1688/1688 [==============================] - 5s 3ms/step - loss: 0.0309 - accuracy: 0.9899 - val_loss: 0.0285 - val_accuracy: 0.9933\n",
            "Epoch 12/32\n",
            "1688/1688 [==============================] - 5s 3ms/step - loss: 0.0320 - accuracy: 0.9892 - val_loss: 0.0263 - val_accuracy: 0.9928\n",
            "Epoch 13/32\n",
            "1688/1688 [==============================] - 5s 3ms/step - loss: 0.0276 - accuracy: 0.9909 - val_loss: 0.0252 - val_accuracy: 0.9933\n",
            "Epoch 14/32\n",
            "1688/1688 [==============================] - 5s 3ms/step - loss: 0.0272 - accuracy: 0.9913 - val_loss: 0.0322 - val_accuracy: 0.9925\n",
            "Epoch 15/32\n",
            "1688/1688 [==============================] - 5s 3ms/step - loss: 0.0261 - accuracy: 0.9911 - val_loss: 0.0267 - val_accuracy: 0.9930\n",
            "Epoch 16/32\n",
            "1688/1688 [==============================] - 5s 3ms/step - loss: 0.0259 - accuracy: 0.9912 - val_loss: 0.0293 - val_accuracy: 0.9938\n",
            "Epoch 17/32\n",
            "1688/1688 [==============================] - 6s 3ms/step - loss: 0.0254 - accuracy: 0.9917 - val_loss: 0.0274 - val_accuracy: 0.9938\n",
            "Epoch 18/32\n",
            "1688/1688 [==============================] - 5s 3ms/step - loss: 0.0249 - accuracy: 0.9916 - val_loss: 0.0276 - val_accuracy: 0.9937\n",
            "Epoch 19/32\n",
            "1688/1688 [==============================] - 5s 3ms/step - loss: 0.0227 - accuracy: 0.9924 - val_loss: 0.0307 - val_accuracy: 0.9928\n",
            "Epoch 20/32\n",
            "1688/1688 [==============================] - 5s 3ms/step - loss: 0.0232 - accuracy: 0.9923 - val_loss: 0.0337 - val_accuracy: 0.9907\n",
            "Epoch 21/32\n",
            "1688/1688 [==============================] - 5s 3ms/step - loss: 0.0223 - accuracy: 0.9926 - val_loss: 0.0295 - val_accuracy: 0.9928\n",
            "Epoch 22/32\n",
            "1688/1688 [==============================] - 5s 3ms/step - loss: 0.0223 - accuracy: 0.9929 - val_loss: 0.0342 - val_accuracy: 0.9920\n",
            "Epoch 23/32\n",
            "1688/1688 [==============================] - 5s 3ms/step - loss: 0.0192 - accuracy: 0.9937 - val_loss: 0.0309 - val_accuracy: 0.9933\n",
            "Epoch 24/32\n",
            "1688/1688 [==============================] - 5s 3ms/step - loss: 0.0214 - accuracy: 0.9927 - val_loss: 0.0300 - val_accuracy: 0.9935\n",
            "Epoch 25/32\n",
            "1688/1688 [==============================] - 5s 3ms/step - loss: 0.0208 - accuracy: 0.9932 - val_loss: 0.0306 - val_accuracy: 0.9923\n",
            "Epoch 26/32\n",
            "1688/1688 [==============================] - 5s 3ms/step - loss: 0.0182 - accuracy: 0.9939 - val_loss: 0.0304 - val_accuracy: 0.9925\n",
            "Epoch 27/32\n",
            "1688/1688 [==============================] - 5s 3ms/step - loss: 0.0196 - accuracy: 0.9931 - val_loss: 0.0302 - val_accuracy: 0.9925\n",
            "Epoch 28/32\n",
            "1688/1688 [==============================] - 5s 3ms/step - loss: 0.0187 - accuracy: 0.9936 - val_loss: 0.0272 - val_accuracy: 0.9937\n",
            "Epoch 29/32\n",
            "1688/1688 [==============================] - 5s 3ms/step - loss: 0.0174 - accuracy: 0.9938 - val_loss: 0.0325 - val_accuracy: 0.9923\n",
            "Epoch 30/32\n",
            "1688/1688 [==============================] - 5s 3ms/step - loss: 0.0181 - accuracy: 0.9941 - val_loss: 0.0295 - val_accuracy: 0.9932\n",
            "Epoch 31/32\n",
            "1688/1688 [==============================] - 5s 3ms/step - loss: 0.0176 - accuracy: 0.9937 - val_loss: 0.0300 - val_accuracy: 0.9928\n",
            "Epoch 32/32\n",
            "1688/1688 [==============================] - 5s 3ms/step - loss: 0.0176 - accuracy: 0.9940 - val_loss: 0.0312 - val_accuracy: 0.9920\n"
          ],
          "name": "stdout"
        },
        {
          "output_type": "execute_result",
          "data": {
            "text/plain": [
              "<tensorflow.python.keras.callbacks.History at 0x7f5a50049290>"
            ]
          },
          "metadata": {
            "tags": []
          },
          "execution_count": 4
        }
      ]
    },
    {
      "cell_type": "code",
      "metadata": {
        "id": "nwGgzWYzx4SF",
        "colab": {
          "base_uri": "https://localhost:8080/"
        },
        "outputId": "616df9ad-0ac4-4923-d1b6-a4ae45f3abd9"
      },
      "source": [
        "score = model.evaluate(x_test, y_test, verbose=0)\n",
        "print(\"Test loss:\", score[0])\n",
        "print(\"Test accuracy:\", score[1])"
      ],
      "execution_count": 5,
      "outputs": [
        {
          "output_type": "stream",
          "text": [
            "Test loss: 0.02454003505408764\n",
            "Test accuracy: 0.9932000041007996\n"
          ],
          "name": "stdout"
        }
      ]
    },
    {
      "cell_type": "markdown",
      "metadata": {
        "id": "O3fVSX3C4DJt"
      },
      "source": [
        "Ok-- Now let's write out and then use the predict function.\n"
      ]
    },
    {
      "cell_type": "code",
      "metadata": {
        "colab": {
          "base_uri": "https://localhost:8080/"
        },
        "id": "tYTT8Bp84V2H",
        "outputId": "a5014000-9f52-4c7b-94d5-76756d3356f6"
      },
      "source": [
        "from keras.models import load_model\n",
        "model.save('mnist_model')\n",
        "reconstructed_model = load_model('mnist_model')"
      ],
      "execution_count": 13,
      "outputs": [
        {
          "output_type": "stream",
          "text": [
            "INFO:tensorflow:Assets written to: mnist_model/assets\n"
          ],
          "name": "stdout"
        }
      ]
    },
    {
      "cell_type": "code",
      "metadata": {
        "colab": {
          "base_uri": "https://localhost:8080/"
        },
        "id": "UxZHPeI5-CB_",
        "outputId": "b0a825f1-2daa-46ec-bdf4-6bde765c53df"
      },
      "source": [
        "# Write to local\n",
        "!zip -r /content/model.zip /content/mnist_model"
      ],
      "execution_count": 38,
      "outputs": [
        {
          "output_type": "stream",
          "text": [
            "  adding: content/mnist_model/ (stored 0%)\n",
            "  adding: content/mnist_model/keras_metadata.pb (deflated 89%)\n",
            "  adding: content/mnist_model/variables/ (stored 0%)\n",
            "  adding: content/mnist_model/variables/variables.index (deflated 63%)\n",
            "  adding: content/mnist_model/variables/variables.data-00000-of-00001 (deflated 8%)\n",
            "  adding: content/mnist_model/saved_model.pb (deflated 88%)\n",
            "  adding: content/mnist_model/assets/ (stored 0%)\n"
          ],
          "name": "stdout"
        }
      ]
    },
    {
      "cell_type": "code",
      "metadata": {
        "colab": {
          "base_uri": "https://localhost:8080/"
        },
        "id": "-g5ffLdR5l1U",
        "outputId": "522b7bb0-a11e-452b-e931-4477ecc00e82"
      },
      "source": [
        "#import PIL as Pillow\n",
        "from pydrive.auth import GoogleAuth\n",
        "from pydrive.drive import GoogleDrive\n",
        "from google.colab import auth\n",
        "from oauth2client.client import GoogleCredentials\n",
        "from imageio import imread\n",
        "\n",
        "\n",
        "auth.authenticate_user()\n",
        "gauth = GoogleAuth()\n",
        "gauth.credentials = GoogleCredentials.get_application_default()\n",
        "drive = GoogleDrive(gauth)\n",
        "\n",
        "downloaded = drive.CreateFile({'id':'1MkVgzJa8wBvyGCvmwhLQ9CrxlZaAnEfN'}) \n",
        "downloaded.GetContentFile('3.png') \n",
        "\n",
        "x = imread('3.png')\n",
        "#compute a bit-wise inversion so black becomes white and vice versa\n",
        "x = np.invert(x)\n",
        "#make it the right size\n",
        "x = np.resize(x,(28,28))\n",
        "#convert to a 4D tensor to feed into our model\n",
        "x = x.reshape(1,28,28,1)\n",
        "x = x.astype('float32')\n",
        "x /= 255\n",
        "\n",
        "out = reconstructed_model.predict(test_input)\n",
        "other = model.predict(test_input)\n",
        "print(np.argmax(out))"
      ],
      "execution_count": 36,
      "outputs": [
        {
          "output_type": "stream",
          "text": [
            "2\n"
          ],
          "name": "stdout"
        }
      ]
    },
    {
      "cell_type": "code",
      "metadata": {
        "colab": {
          "base_uri": "https://localhost:8080/"
        },
        "id": "KP-oWfSh7DAX",
        "outputId": "dcb2ffcf-3ef5-4644-8467-2b10a4b1481f"
      },
      "source": [
        "print(out)\n",
        "print(other)"
      ],
      "execution_count": 26,
      "outputs": [
        {
          "output_type": "stream",
          "text": [
            "[[5.5366887e-05 4.2487115e-14 9.9202877e-01 2.2459030e-06 1.3662069e-08\n",
            "  7.6454153e-06 1.8368080e-06 1.7396359e-13 7.9041272e-03 2.0261018e-08]]\n",
            "[[5.5366887e-05 4.2487115e-14 9.9202877e-01 2.2459030e-06 1.3662069e-08\n",
            "  7.6454153e-06 1.8368080e-06 1.7396359e-13 7.9041272e-03 2.0261018e-08]]\n"
          ],
          "name": "stdout"
        }
      ]
    },
    {
      "cell_type": "markdown",
      "metadata": {
        "id": "MtD4GsJccnG9"
      },
      "source": [
        "Let the transfer learning begin with the TF ModelNetV2 as base.\n",
        "\n",
        "---\n",
        "\n",
        "\n"
      ]
    },
    {
      "cell_type": "code",
      "metadata": {
        "id": "y9lrd4cAgVtw"
      },
      "source": [
        "import tensorflow as tf\n",
        "data_augmentation = tf.keras.Sequential([\n",
        "  tf.keras.layers.experimental.preprocessing.RandomFlip('horizontal'),\n",
        "  tf.keras.layers.experimental.preprocessing.RandomRotation(0.2),\n",
        "])\n",
        "preprocess_input = tf.keras.applications.mobilenet_v2.preprocess_input\n",
        "rescale = tf.keras.layers.experimental.preprocessing.Rescaling(1./127.5, offset= -1)\n",
        "global_average_layer = tf.keras.layers.GlobalAveragePooling2D()\n",
        "prediction_layer = tf.keras.layers.Dense(10)"
      ],
      "execution_count": null,
      "outputs": []
    },
    {
      "cell_type": "code",
      "metadata": {
        "id": "uFzEh856i3KQ"
      },
      "source": [
        "xtrain32 = tf.image.resize(\n",
        "    x_train, [32,32], preserve_aspect_ratio=False,\n",
        "    antialias=False, name=None\n",
        ")\n",
        "\n",
        "xtrain32 = tf.image.grayscale_to_rgb(\n",
        "    xtrain32, name=None\n",
        ")\n",
        "\n",
        "xtest32 = tf.image.resize(\n",
        "    x_test, [32,32], preserve_aspect_ratio=False,\n",
        "    antialias=False, name=None\n",
        ")\n",
        "\n",
        "xtest32 = tf.image.grayscale_to_rgb(\n",
        "    xtest32, name=None\n",
        ")"
      ],
      "execution_count": null,
      "outputs": []
    },
    {
      "cell_type": "code",
      "metadata": {
        "id": "QNvoymsxctAS"
      },
      "source": [
        "base_model = tf.keras.applications.MobileNetV2(input_shape=(32,32,3),\n",
        "                                               include_top=False,\n",
        "                                               weights='imagenet')\n",
        "base_model.trainable = False\n",
        "base_model.summary()"
      ],
      "execution_count": null,
      "outputs": []
    },
    {
      "cell_type": "code",
      "metadata": {
        "id": "UTozif6OfuC1"
      },
      "source": [
        "inputs = tf.keras.Input(shape=(32, 32, 3))\n",
        "x = data_augmentation(inputs)\n",
        "x = preprocess_input(x)\n",
        "x = base_model(x, training=False)\n",
        "x = global_average_layer(x)\n",
        "x = tf.keras.layers.Dropout(0.2)(x)\n",
        "outputs = prediction_layer(x)\n",
        "model = tf.keras.Model(inputs, outputs)"
      ],
      "execution_count": null,
      "outputs": []
    },
    {
      "cell_type": "code",
      "metadata": {
        "colab": {
          "base_uri": "https://localhost:8080/",
          "height": 232
        },
        "id": "geD8eLe_fw_5",
        "outputId": "d0af36e3-6399-4dc0-bd73-d58cd6f99bd1"
      },
      "source": [
        "base_learning_rate = 0.0001\n",
        "model.compile(optimizer=tf.keras.optimizers.Adam(lr=base_learning_rate),\n",
        "              loss=tf.keras.losses.BinaryCrossentropy(from_logits=True),\n",
        "              metrics=['accuracy'])\n",
        "model.summary()\n",
        "\n",
        "initial_epochs = 10\n",
        "loss0, accuracy0 = model.evaluate(xtest32)"
      ],
      "execution_count": 4,
      "outputs": [
        {
          "output_type": "error",
          "ename": "NameError",
          "evalue": "ignored",
          "traceback": [
            "\u001b[0;31m---------------------------------------------------------------------------\u001b[0m",
            "\u001b[0;31mNameError\u001b[0m                                 Traceback (most recent call last)",
            "\u001b[0;32m<ipython-input-4-21f03087633d>\u001b[0m in \u001b[0;36m<module>\u001b[0;34m()\u001b[0m\n\u001b[1;32m      1\u001b[0m \u001b[0mbase_learning_rate\u001b[0m \u001b[0;34m=\u001b[0m \u001b[0;36m0.0001\u001b[0m\u001b[0;34m\u001b[0m\u001b[0;34m\u001b[0m\u001b[0m\n\u001b[0;32m----> 2\u001b[0;31m model.compile(optimizer=tf.keras.optimizers.Adam(lr=base_learning_rate),\n\u001b[0m\u001b[1;32m      3\u001b[0m               \u001b[0mloss\u001b[0m\u001b[0;34m=\u001b[0m\u001b[0mtf\u001b[0m\u001b[0;34m.\u001b[0m\u001b[0mkeras\u001b[0m\u001b[0;34m.\u001b[0m\u001b[0mlosses\u001b[0m\u001b[0;34m.\u001b[0m\u001b[0mBinaryCrossentropy\u001b[0m\u001b[0;34m(\u001b[0m\u001b[0mfrom_logits\u001b[0m\u001b[0;34m=\u001b[0m\u001b[0;32mTrue\u001b[0m\u001b[0;34m)\u001b[0m\u001b[0;34m,\u001b[0m\u001b[0;34m\u001b[0m\u001b[0;34m\u001b[0m\u001b[0m\n\u001b[1;32m      4\u001b[0m               metrics=['accuracy'])\n\u001b[1;32m      5\u001b[0m \u001b[0mmodel\u001b[0m\u001b[0;34m.\u001b[0m\u001b[0msummary\u001b[0m\u001b[0;34m(\u001b[0m\u001b[0;34m)\u001b[0m\u001b[0;34m\u001b[0m\u001b[0;34m\u001b[0m\u001b[0m\n",
            "\u001b[0;31mNameError\u001b[0m: name 'tf' is not defined"
          ]
        }
      ]
    },
    {
      "cell_type": "code",
      "metadata": {
        "colab": {
          "base_uri": "https://localhost:8080/"
        },
        "id": "dWXyRyNmf6-v",
        "outputId": "7140f1ab-d23f-43f8-ee54-1222fb581f01"
      },
      "source": [
        "history = model.fit(xtrain32, y_train,\n",
        "                    epochs=50,\n",
        "                    validation_split=0.1)"
      ],
      "execution_count": null,
      "outputs": [
        {
          "output_type": "stream",
          "text": [
            "Epoch 1/50\n",
            "1688/1688 [==============================] - 66s 39ms/step - loss: 0.3212 - accuracy: 0.1888 - val_loss: 0.3129 - val_accuracy: 0.2455\n",
            "Epoch 2/50\n",
            "1688/1688 [==============================] - 66s 39ms/step - loss: 0.3207 - accuracy: 0.1902 - val_loss: 0.3121 - val_accuracy: 0.2455\n",
            "Epoch 3/50\n",
            "1688/1688 [==============================] - 66s 39ms/step - loss: 0.3201 - accuracy: 0.1918 - val_loss: 0.3114 - val_accuracy: 0.2493\n",
            "Epoch 4/50\n",
            "1688/1688 [==============================] - 66s 39ms/step - loss: 0.3195 - accuracy: 0.1942 - val_loss: 0.3107 - val_accuracy: 0.2575\n",
            "Epoch 5/50\n",
            "1688/1688 [==============================] - 66s 39ms/step - loss: 0.3192 - accuracy: 0.1955 - val_loss: 0.3101 - val_accuracy: 0.2542\n",
            "Epoch 6/50\n",
            "1688/1688 [==============================] - 66s 39ms/step - loss: 0.3184 - accuracy: 0.1978 - val_loss: 0.3095 - val_accuracy: 0.2528\n",
            "Epoch 7/50\n",
            "1688/1688 [==============================] - 66s 39ms/step - loss: 0.3182 - accuracy: 0.1984 - val_loss: 0.3089 - val_accuracy: 0.2517\n",
            "Epoch 8/50\n",
            "1688/1688 [==============================] - 66s 39ms/step - loss: 0.3180 - accuracy: 0.1991 - val_loss: 0.3084 - val_accuracy: 0.2570\n",
            "Epoch 9/50\n",
            "1688/1688 [==============================] - 66s 39ms/step - loss: 0.3172 - accuracy: 0.2023 - val_loss: 0.3079 - val_accuracy: 0.2587\n",
            "Epoch 10/50\n",
            "1688/1688 [==============================] - 66s 39ms/step - loss: 0.3170 - accuracy: 0.2016 - val_loss: 0.3074 - val_accuracy: 0.2572\n",
            "Epoch 11/50\n",
            "1688/1688 [==============================] - 67s 39ms/step - loss: 0.3167 - accuracy: 0.2020 - val_loss: 0.3070 - val_accuracy: 0.2585\n",
            "Epoch 12/50\n",
            "1688/1688 [==============================] - 67s 40ms/step - loss: 0.3166 - accuracy: 0.2019 - val_loss: 0.3066 - val_accuracy: 0.2615\n",
            "Epoch 13/50\n",
            "1688/1688 [==============================] - 67s 40ms/step - loss: 0.3163 - accuracy: 0.2054 - val_loss: 0.3061 - val_accuracy: 0.2632\n",
            "Epoch 14/50\n",
            "1688/1688 [==============================] - 67s 40ms/step - loss: 0.3158 - accuracy: 0.2043 - val_loss: 0.3058 - val_accuracy: 0.2598\n",
            "Epoch 15/50\n",
            "1688/1688 [==============================] - 67s 40ms/step - loss: 0.3159 - accuracy: 0.2021 - val_loss: 0.3054 - val_accuracy: 0.2698\n",
            "Epoch 16/50\n",
            "1688/1688 [==============================] - 67s 40ms/step - loss: 0.3156 - accuracy: 0.2048 - val_loss: 0.3051 - val_accuracy: 0.2612\n",
            "Epoch 17/50\n",
            "1688/1688 [==============================] - 67s 40ms/step - loss: 0.3151 - accuracy: 0.2084 - val_loss: 0.3048 - val_accuracy: 0.2695\n",
            "Epoch 18/50\n",
            "1688/1688 [==============================] - 66s 39ms/step - loss: 0.3149 - accuracy: 0.2091 - val_loss: 0.3044 - val_accuracy: 0.2658\n",
            "Epoch 19/50\n",
            "1688/1688 [==============================] - 66s 39ms/step - loss: 0.3146 - accuracy: 0.2054 - val_loss: 0.3041 - val_accuracy: 0.2727\n",
            "Epoch 20/50\n",
            "1688/1688 [==============================] - 66s 39ms/step - loss: 0.3147 - accuracy: 0.2070 - val_loss: 0.3038 - val_accuracy: 0.2653\n",
            "Epoch 21/50\n",
            "1688/1688 [==============================] - 66s 39ms/step - loss: 0.3142 - accuracy: 0.2113 - val_loss: 0.3035 - val_accuracy: 0.2687\n",
            "Epoch 22/50\n",
            "1688/1688 [==============================] - 66s 39ms/step - loss: 0.3143 - accuracy: 0.2119 - val_loss: 0.3032 - val_accuracy: 0.2738\n",
            "Epoch 23/50\n",
            "1688/1688 [==============================] - 66s 39ms/step - loss: 0.3138 - accuracy: 0.2124 - val_loss: 0.3029 - val_accuracy: 0.2775\n",
            "Epoch 24/50\n",
            "1688/1688 [==============================] - 66s 39ms/step - loss: 0.3136 - accuracy: 0.2110 - val_loss: 0.3027 - val_accuracy: 0.2733\n",
            "Epoch 25/50\n",
            "1688/1688 [==============================] - 67s 40ms/step - loss: 0.3137 - accuracy: 0.2079 - val_loss: 0.3025 - val_accuracy: 0.2753\n",
            "Epoch 26/50\n",
            "1688/1688 [==============================] - 66s 39ms/step - loss: 0.3135 - accuracy: 0.2124 - val_loss: 0.3022 - val_accuracy: 0.2725\n",
            "Epoch 27/50\n",
            "1688/1688 [==============================] - 67s 39ms/step - loss: 0.3131 - accuracy: 0.2129 - val_loss: 0.3019 - val_accuracy: 0.2742\n",
            "Epoch 28/50\n",
            "1688/1688 [==============================] - 67s 40ms/step - loss: 0.3131 - accuracy: 0.2125 - val_loss: 0.3018 - val_accuracy: 0.2678\n",
            "Epoch 29/50\n",
            "1688/1688 [==============================] - 67s 40ms/step - loss: 0.3130 - accuracy: 0.2144 - val_loss: 0.3016 - val_accuracy: 0.2758\n",
            "Epoch 30/50\n",
            "1688/1688 [==============================] - 67s 40ms/step - loss: 0.3131 - accuracy: 0.2120 - val_loss: 0.3014 - val_accuracy: 0.2780\n",
            "Epoch 31/50\n",
            "1688/1688 [==============================] - 67s 40ms/step - loss: 0.3131 - accuracy: 0.2113 - val_loss: 0.3013 - val_accuracy: 0.2780\n",
            "Epoch 32/50\n",
            "1688/1688 [==============================] - 67s 40ms/step - loss: 0.3127 - accuracy: 0.2135 - val_loss: 0.3011 - val_accuracy: 0.2677\n",
            "Epoch 33/50\n",
            "1688/1688 [==============================] - 67s 39ms/step - loss: 0.3124 - accuracy: 0.2152 - val_loss: 0.3009 - val_accuracy: 0.2767\n",
            "Epoch 34/50\n",
            "1688/1688 [==============================] - 67s 40ms/step - loss: 0.3124 - accuracy: 0.2137 - val_loss: 0.3006 - val_accuracy: 0.2778\n",
            "Epoch 35/50\n",
            "1688/1688 [==============================] - 67s 40ms/step - loss: 0.3121 - accuracy: 0.2145 - val_loss: 0.3004 - val_accuracy: 0.2808\n",
            "Epoch 36/50\n",
            "1688/1688 [==============================] - 67s 39ms/step - loss: 0.3122 - accuracy: 0.2123 - val_loss: 0.3003 - val_accuracy: 0.2820\n",
            "Epoch 37/50\n",
            "1688/1688 [==============================] - 67s 40ms/step - loss: 0.3117 - accuracy: 0.2164 - val_loss: 0.3001 - val_accuracy: 0.2783\n",
            "Epoch 38/50\n",
            "1688/1688 [==============================] - 67s 40ms/step - loss: 0.3117 - accuracy: 0.2173 - val_loss: 0.2999 - val_accuracy: 0.2787\n",
            "Epoch 39/50\n",
            "1688/1688 [==============================] - 67s 40ms/step - loss: 0.3116 - accuracy: 0.2188 - val_loss: 0.2997 - val_accuracy: 0.2822\n",
            "Epoch 40/50\n",
            "1688/1688 [==============================] - 68s 40ms/step - loss: 0.3115 - accuracy: 0.2181 - val_loss: 0.2995 - val_accuracy: 0.2827\n",
            "Epoch 41/50\n",
            "1688/1688 [==============================] - 68s 40ms/step - loss: 0.3114 - accuracy: 0.2185 - val_loss: 0.2994 - val_accuracy: 0.2842\n",
            "Epoch 42/50\n",
            "1688/1688 [==============================] - 67s 40ms/step - loss: 0.3115 - accuracy: 0.2169 - val_loss: 0.2992 - val_accuracy: 0.2822\n",
            "Epoch 43/50\n",
            "1688/1688 [==============================] - 67s 40ms/step - loss: 0.3114 - accuracy: 0.2166 - val_loss: 0.2990 - val_accuracy: 0.2888\n",
            "Epoch 44/50\n",
            "1688/1688 [==============================] - 67s 40ms/step - loss: 0.3114 - accuracy: 0.2184 - val_loss: 0.2990 - val_accuracy: 0.2812\n",
            "Epoch 45/50\n",
            "1688/1688 [==============================] - 67s 40ms/step - loss: 0.3113 - accuracy: 0.2150 - val_loss: 0.2989 - val_accuracy: 0.2770\n",
            "Epoch 46/50\n",
            "1688/1688 [==============================] - 68s 40ms/step - loss: 0.3112 - accuracy: 0.2144 - val_loss: 0.2987 - val_accuracy: 0.2835\n",
            "Epoch 47/50\n",
            "1688/1688 [==============================] - 67s 40ms/step - loss: 0.3107 - accuracy: 0.2181 - val_loss: 0.2986 - val_accuracy: 0.2805\n",
            "Epoch 48/50\n",
            "1688/1688 [==============================] - 68s 40ms/step - loss: 0.3108 - accuracy: 0.2184 - val_loss: 0.2984 - val_accuracy: 0.2773\n",
            "Epoch 49/50\n",
            "1688/1688 [==============================] - 67s 40ms/step - loss: 0.3109 - accuracy: 0.2183 - val_loss: 0.2983 - val_accuracy: 0.2820\n",
            "Epoch 50/50\n",
            "1688/1688 [==============================] - 67s 40ms/step - loss: 0.3107 - accuracy: 0.2181 - val_loss: 0.2982 - val_accuracy: 0.2822\n"
          ],
          "name": "stdout"
        }
      ]
    },
    {
      "cell_type": "markdown",
      "metadata": {
        "id": "1vJgLJIp0WQj"
      },
      "source": [
        "Now, let's try with a Keras MNIST pre-trained model.\n"
      ]
    },
    {
      "cell_type": "code",
      "metadata": {
        "id": "H3zrX6Qr1tBo"
      },
      "source": [
        "!pip install -U -q PyDrive\n",
        "from pydrive.auth import GoogleAuth\n",
        "from pydrive.drive import GoogleDrive\n",
        "from google.colab import auth\n",
        "from oauth2client.client import GoogleCredentials\n",
        "\n",
        "auth.authenticate_user()\n",
        "gauth = GoogleAuth()\n",
        "gauth.credentials = GoogleCredentials.get_application_default()\n",
        "drive = GoogleDrive(gauth)"
      ],
      "execution_count": 9,
      "outputs": []
    },
    {
      "cell_type": "code",
      "metadata": {
        "colab": {
          "base_uri": "https://localhost:8080/"
        },
        "id": "ZRv76yNw0aQN",
        "outputId": "80f7bbd4-4d88-4403-a29a-e9116feebaf6"
      },
      "source": [
        "from keras.models import load_model\n",
        "\n",
        "downloaded = drive.CreateFile({'id':'1IbBbD6I56uvNdJXOyXSJmoXdiRrT1O7P'}) \n",
        "downloaded.GetContentFile('mnist.h5') \n",
        "\n",
        "pretrained_model = load_model('mnist.h5')\n",
        "#out = model.predict(x)"
      ],
      "execution_count": 15,
      "outputs": [
        {
          "output_type": "stream",
          "text": [
            "Requirement already satisfied: h5py in /usr/local/lib/python3.7/dist-packages (3.1.0)\n",
            "Requirement already satisfied: cached-property; python_version < \"3.8\" in /usr/local/lib/python3.7/dist-packages (from h5py) (1.5.2)\n",
            "Requirement already satisfied: numpy>=1.14.5; python_version == \"3.7\" in /usr/local/lib/python3.7/dist-packages (from h5py) (1.19.5)\n",
            "WARNING:tensorflow:Error in loading the saved optimizer state. As a result, your model is starting with a freshly initialized optimizer.\n"
          ],
          "name": "stdout"
        }
      ]
    },
    {
      "cell_type": "markdown",
      "metadata": {
        "id": "IW2aKXBwAnw3"
      },
      "source": [
        "# New Section"
      ]
    },
    {
      "cell_type": "code",
      "metadata": {
        "id": "hhPKHmfuAvEV"
      },
      "source": [
        "from google.colab import drive\n",
        "drive.mount('/content/drive')"
      ],
      "execution_count": null,
      "outputs": []
    },
    {
      "cell_type": "code",
      "metadata": {
        "id": "fPdKInkp3Ox7"
      },
      "source": [
        "score = pretrained_model.evaluate(x_test, y_test, verbose=0)"
      ],
      "execution_count": 16,
      "outputs": []
    },
    {
      "cell_type": "code",
      "metadata": {
        "colab": {
          "base_uri": "https://localhost:8080/"
        },
        "id": "9LE2eINR3ul0",
        "outputId": "5bf8a977-5887-462b-81b1-02ec6cf34f6d"
      },
      "source": [
        "score"
      ],
      "execution_count": 17,
      "outputs": [
        {
          "output_type": "execute_result",
          "data": {
            "text/plain": [
              "[0.029253464192152023, 0.9907000064849854]"
            ]
          },
          "metadata": {
            "tags": []
          },
          "execution_count": 17
        }
      ]
    }
  ]
}